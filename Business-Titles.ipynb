{
 "cells": [
  {
   "cell_type": "markdown",
   "id": "8f15d417",
   "metadata": {},
   "source": [
    "import all required libraries"
   ]
  },
  {
   "cell_type": "code",
   "execution_count": 76,
   "id": "2cc94d1b",
   "metadata": {},
   "outputs": [],
   "source": [
    "import pandas as pd\n",
    "from sklearn import preprocessing, feature_extraction, linear_model, metrics\n",
    "from deep_translator import GoogleTranslator\n",
    "from sklearn.linear_model import LinearRegression as LR  \n",
    "from sklearn.model_selection import train_test_split \n",
    "from sklearn import tree\n",
    "from sklearn.model_selection import train_test_split"
   ]
  },
  {
   "cell_type": "markdown",
   "id": "f52961c1",
   "metadata": {},
   "source": [
    "Read file"
   ]
  },
  {
   "cell_type": "code",
   "execution_count": 77,
   "id": "b55a44bf",
   "metadata": {},
   "outputs": [],
   "source": [
    "df = pd.read_csv(\"Title_seed_data_2023-03-08T22.00.04.csv\")"
   ]
  },
  {
   "cell_type": "markdown",
   "id": "4d0028f5",
   "metadata": {},
   "source": [
    "How many different types of values in each column"
   ]
  },
  {
   "cell_type": "code",
   "execution_count": 78,
   "id": "c34c878f",
   "metadata": {},
   "outputs": [
    {
     "name": "stdout",
     "output_type": "stream",
     "text": [
      "There are 21 different types of values in column: 0 : OP_IT_Job_Sub_Function__c\n",
      "There are 31 different types of values in column: 1 : OP_Job_Function__c\n",
      "There are 8 different types of values in column: 2 : OP_Job_Level__c\n",
      "There are 106187 different types of values in column: 3 : Title\n"
     ]
    }
   ],
   "source": [
    "for i in range(4):\n",
    "    print(\"There are\", len(df.iloc[:, i].unique()), \"different types of values in column:\", i, \":\", df.columns.values[i])"
   ]
  },
  {
   "cell_type": "markdown",
   "id": "7d69d6e3",
   "metadata": {},
   "source": [
    "Detail information of each column"
   ]
  },
  {
   "cell_type": "code",
   "execution_count": 79,
   "id": "de8ac987",
   "metadata": {},
   "outputs": [
    {
     "name": "stdout",
     "output_type": "stream",
     "text": [
      "Categories and numbers of value in column 0: OP_IT_Job_Sub_Function__c\n",
      "It General                    44793\n",
      "Development                   32897\n",
      "Systems                       29232\n",
      "Business Systems              11678\n",
      "Database                      10747\n",
      "Networking                     8653\n",
      "Information Security           7301\n",
      "Program Management             6811\n",
      "Operations                     6370\n",
      "Help Desk                      6213\n",
      "Private Cloud                  2370\n",
      "Integration                    2139\n",
      "Governance Risk Compliance     2129\n",
      "Vendor Management              1004\n",
      "Communications                  963\n",
      "Training                        461\n",
      "Business Continuity             369\n",
      "End User Computing              347\n",
      "Data                            162\n",
      "IT Facilities                   162\n",
      "Name: OP_IT_Job_Sub_Function__c, dtype: int64\n"
     ]
    }
   ],
   "source": [
    "print(\"Categories and numbers of value in column 0:\",df.columns.values[0])\n",
    "print(df.OP_IT_Job_Sub_Function__c.value_counts())"
   ]
  },
  {
   "cell_type": "code",
   "execution_count": 80,
   "id": "9a99a77d",
   "metadata": {},
   "outputs": [
    {
     "name": "stdout",
     "output_type": "stream",
     "text": [
      "Categories and numbers of value in column 1: OP_Job_Function__c\n",
      "IT                136186\n",
      "Engineering        35450\n",
      "Management         19665\n",
      "Sales               9461\n",
      "Operations          7851\n",
      "Marketing           2423\n",
      "blank               2378\n",
      "Support             2338\n",
      "Finance             1860\n",
      "Education           1804\n",
      "Services            1189\n",
      "Purchasing           840\n",
      "Human Resource       745\n",
      "Medical              585\n",
      "Facilities           539\n",
      "Administration       451\n",
      "Public Sector        397\n",
      "Corporate            380\n",
      "Legal                305\n",
      "Service               52\n",
      "IoT/Edge              26\n",
      "Contributor            6\n",
      "Business               4\n",
      "Public Service         2\n",
      "Military               1\n",
      "Manager                1\n",
      "시스템운영팀                 1\n",
      "HR                     1\n",
      "스마트 테크놀러지              1\n",
      "Consulting             1\n",
      "Name: OP_Job_Function__c, dtype: int64\n"
     ]
    }
   ],
   "source": [
    "print(\"Categories and numbers of value in column 1:\",df.columns.values[1])\n",
    "print(df.OP_Job_Function__c.value_counts())"
   ]
  },
  {
   "cell_type": "code",
   "execution_count": 81,
   "id": "8db6527e",
   "metadata": {},
   "outputs": [
    {
     "name": "stdout",
     "output_type": "stream",
     "text": [
      "Categories and numbers of value in column 2: OP_Job_Level__c\n",
      "Contributor    98665\n",
      "Manager        61727\n",
      "Director       29852\n",
      "Executive      15785\n",
      "C-Level        14001\n",
      "blank              4\n",
      "차장                 1\n",
      "Name: OP_Job_Level__c, dtype: int64\n"
     ]
    }
   ],
   "source": [
    "print(\"Categories and numbers of value in column 2:\",df.columns.values[2])\n",
    "print(df.OP_Job_Level__c.value_counts())"
   ]
  },
  {
   "cell_type": "code",
   "execution_count": 82,
   "id": "aa0a5259",
   "metadata": {},
   "outputs": [
    {
     "name": "stdout",
     "output_type": "stream",
     "text": [
      "Categories and numbers of value in column 3: Title\n",
      "IT Manager                                         2860\n",
      "Information Technology Manager                     2182\n",
      "Manager                                            2112\n",
      "Director                                           1921\n",
      "Manager, Information Technology                    1847\n",
      "                                                   ... \n",
      "Head, Information Technology Finance and Assets       1\n",
      "vocalist                                              1\n",
      "Senior Business Application Administrator             1\n",
      "Application Developer & Systems Analyst               1\n",
      "IT Network & Infrastructure                           1\n",
      "Name: Title, Length: 106186, dtype: int64\n"
     ]
    }
   ],
   "source": [
    "print(\"Categories and numbers of value in column 3:\",df.columns.values[3])\n",
    "print(df.Title.value_counts())"
   ]
  },
  {
   "cell_type": "code",
   "execution_count": 83,
   "id": "c36fa8ce",
   "metadata": {
    "scrolled": false
   },
   "outputs": [
    {
     "name": "stdout",
     "output_type": "stream",
     "text": [
      "       OP_Job_Function__c                             Title\n",
      "0                      IT         Technical Support Analyst\n",
      "1              Operations                   project manager\n",
      "2                      IT                    Technical Lead\n",
      "3                      IT                       IT-Arkitekt\n",
      "4                      IT            Network technical lead\n",
      "...                   ...                               ...\n",
      "249995                 IT             Network Administrator\n",
      "249996                 IT  Manager, Bus Applications Bt Mex\n",
      "249997        Engineering           Senior Telecom Engineer\n",
      "249998         Management                             C.e.o\n",
      "249999        Engineering                         ハードウェア開発部\n",
      "\n",
      "[224938 rows x 2 columns]\n"
     ]
    }
   ],
   "source": [
    "df_jobfunction = pd.DataFrame(df,columns = [\"OP_Job_Function__c\",\"Title\"])\n",
    "df_jobfunction = df_jobfunction.dropna(axis=0, how='any')\n",
    "print(df_jobfunction)"
   ]
  },
  {
   "cell_type": "markdown",
   "id": "69072282",
   "metadata": {},
   "source": [
    "Tried to translate all foreign language into english, but it was too slow... Still looking for useful tool to translate"
   ]
  },
  {
   "cell_type": "code",
   "execution_count": 84,
   "id": "7abd2665",
   "metadata": {},
   "outputs": [],
   "source": [
    "# for ind in df_jobfunction.index:\n",
    "#      str1=df_jobfunction['OP_Job_Function__c'][ind]\n",
    "#      str2=df_jobfunction['Title'][ind]\n",
    "#      translated1 = GoogleTranslator(source='auto', target='en').translate(str1)\n",
    "#      translated2 = GoogleTranslator(source='auto', target='en').translate(str2)\n",
    "#      df_jobfunction.loc[ind,'OP_Job_Function__c'] = translated1\n",
    "#      df_jobfunction.loc[ind,'Title'] = translated2\n",
    "#      print(ind,lang1.detect_language(),lang2.detect_language())\n",
    "#  clean = df_jobfunction\n",
    "#  print(clean)"
   ]
  },
  {
   "cell_type": "markdown",
   "id": "aeae7487",
   "metadata": {},
   "source": [
    "Tried to seperate dateset into train set and test set, not need to use for now"
   ]
  },
  {
   "cell_type": "code",
   "execution_count": 85,
   "id": "17a74280",
   "metadata": {},
   "outputs": [],
   "source": [
    "# X=df_jobfunction[['OP_Job_Function__c']]\n",
    "# print(X)\n",
    "\n",
    "# y=df_jobfunction[['Title']]\n",
    "# print(y)\n",
    "\n",
    "# X_train,X_test,y_train,y_test = train_test_split(X,y,test_size=0.3,random_state=420)\n",
    "# for i in [X_train,X_test]:\n",
    "#     i.index = range(i.shape[0])"
   ]
  },
  {
   "cell_type": "markdown",
   "id": "bf04aba5",
   "metadata": {},
   "source": [
    "Logistic Regression doesn't work because model won't converge"
   ]
  },
  {
   "cell_type": "code",
   "execution_count": 87,
   "id": "7041806f",
   "metadata": {},
   "outputs": [],
   "source": [
    "# cv = feature_extraction.text.CountVectorizer()\n",
    "# cv.fit(df_jobfunction.Title)\n",
    "# feature = cv.transform(df_jobfunction.Title)\n",
    "\n",
    "# le = preprocessing.LabelEncoder()\n",
    "# le.fit(df_jobfunction.OP_Job_Function__c)\n",
    "# target = le.transform(df_jobfunction.OP_Job_Function__c)\n",
    "\n",
    "# logistic = linear_model.LogisticRegression(max_iter=300)\n",
    "# logistic.fit(feature, target)\n",
    "\n",
    "# print(logistic.predict(feature))\n",
    "\n",
    "# confidence = logistic.predict(feature)\n",
    "# print(metrics.accuracy_score(target, confidence))"
   ]
  },
  {
   "cell_type": "markdown",
   "id": "a41ad6fa",
   "metadata": {},
   "source": [
    "Use desicion tree as a classifier"
   ]
  },
  {
   "cell_type": "code",
   "execution_count": 96,
   "id": "a944059c",
   "metadata": {},
   "outputs": [
    {
     "name": "stdout",
     "output_type": "stream",
     "text": [
      "  (0, 867)\t1\n",
      "  (0, 14421)\t1\n",
      "  (0, 14790)\t1\n",
      "  (1, 9436)\t1\n",
      "  (1, 12033)\t1\n",
      "  (2, 8984)\t1\n",
      "  (2, 14790)\t1\n",
      "  (3, 1194)\t1\n",
      "  (3, 8030)\t1\n",
      "  (4, 8984)\t1\n",
      "  (4, 10397)\t1\n",
      "  (4, 14790)\t1\n",
      "  (5, 8404)\t1\n",
      "  (6, 2690)\t1\n",
      "  (7, 5116)\t1\n",
      "  (7, 8984)\t1\n",
      "  (7, 14064)\t1\n",
      "  (7, 14227)\t1\n",
      "  (8, 9436)\t1\n",
      "  (8, 13462)\t1\n",
      "  (9, 9436)\t1\n",
      "  (9, 10397)\t1\n",
      "  (9, 14227)\t1\n",
      "  (10, 467)\t1\n",
      "  (10, 3784)\t1\n",
      "  :\t:\n",
      "  (224929, 14850)\t1\n",
      "  (224930, 2501)\t1\n",
      "  (224930, 3031)\t1\n",
      "  (224930, 6720)\t1\n",
      "  (224930, 10715)\t1\n",
      "  (224930, 16207)\t1\n",
      "  (224931, 1647)\t1\n",
      "  (224931, 4265)\t1\n",
      "  (224931, 8984)\t1\n",
      "  (224931, 11550)\t1\n",
      "  (224931, 15289)\t1\n",
      "  (224932, 4265)\t1\n",
      "  (224932, 7471)\t1\n",
      "  (224932, 14850)\t1\n",
      "  (224933, 467)\t1\n",
      "  (224933, 10397)\t1\n",
      "  (224934, 1037)\t1\n",
      "  (224934, 2099)\t1\n",
      "  (224934, 2146)\t1\n",
      "  (224934, 9436)\t1\n",
      "  (224934, 9829)\t1\n",
      "  (224935, 5116)\t1\n",
      "  (224935, 13392)\t1\n",
      "  (224935, 14939)\t1\n",
      "  (224937, 18248)\t1\n",
      "[11 19 11 ...  6 14  6]\n",
      "Confidence: 0.9625318976784714\n"
     ]
    }
   ],
   "source": [
    "cv = feature_extraction.text.CountVectorizer()\n",
    "cv.fit(df_jobfunction.Title)\n",
    "feature = cv.transform(df_jobfunction.Title) \n",
    "\n",
    "le = preprocessing.LabelEncoder()\n",
    "le.fit(df_jobfunction.OP_Job_Function__c)\n",
    "target = le.transform(df_jobfunction.OP_Job_Function__c)\n",
    "\n",
    "print(feature)\n",
    "print(target)\n",
    "\n",
    "clf = tree.DecisionTreeClassifier()\n",
    "clf = clf.fit(feature,target)\n",
    "score= clf.score(feature,target)\n",
    "print(\"Confidence:\",score)"
   ]
  },
  {
   "cell_type": "code",
   "execution_count": null,
   "id": "e7c44837",
   "metadata": {},
   "outputs": [],
   "source": []
  }
 ],
 "metadata": {
  "kernelspec": {
   "display_name": "Python 3",
   "language": "python",
   "name": "python3"
  },
  "language_info": {
   "codemirror_mode": {
    "name": "ipython",
    "version": 3
   },
   "file_extension": ".py",
   "mimetype": "text/x-python",
   "name": "python",
   "nbconvert_exporter": "python",
   "pygments_lexer": "ipython3",
   "version": "3.8.8"
  }
 },
 "nbformat": 4,
 "nbformat_minor": 5
}
